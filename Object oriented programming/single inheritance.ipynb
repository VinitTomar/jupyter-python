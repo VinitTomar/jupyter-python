{
 "metadata": {
  "language_info": {
   "codemirror_mode": {
    "name": "ipython",
    "version": 3
   },
   "file_extension": ".py",
   "mimetype": "text/x-python",
   "name": "python",
   "nbconvert_exporter": "python",
   "pygments_lexer": "ipython3",
   "version": "3.9.1-final"
  },
  "orig_nbformat": 2,
  "kernelspec": {
   "name": "python391jvsc74a57bd0ac2eaa0ea0ebeafcc7822e65e46aa9d4f966f30b695406963e145ea4a91cd4fc",
   "display_name": "Python 3.9.1 64-bit"
  },
  "metadata": {
   "interpreter": {
    "hash": "ac2eaa0ea0ebeafcc7822e65e46aa9d4f966f30b695406963e145ea4a91cd4fc"
   }
  }
 },
 "nbformat": 4,
 "nbformat_minor": 2,
 "cells": [
  {
   "cell_type": "code",
   "execution_count": 12,
   "metadata": {},
   "outputs": [],
   "source": [
    "class Vehicle:\n",
    "    def __init__(self, cost, mileage):\n",
    "        self.mileage = mileage\n",
    "        self.cost = cost\n",
    "    \n",
    "    def details(self):\n",
    "        print(\"Mileage of vehicle is: \", self.mileage)\n",
    "        print(\"Cost of vehicle is: \", self.cost)"
   ]
  },
  {
   "cell_type": "code",
   "execution_count": 2,
   "metadata": {},
   "outputs": [],
   "source": [
    "v = Vehicle(500000, 50)"
   ]
  },
  {
   "cell_type": "code",
   "execution_count": 3,
   "metadata": {},
   "outputs": [
    {
     "output_type": "stream",
     "name": "stdout",
     "text": [
      "Mileage of vehicle is:  50\nCost of vehicle is:  500000\nI am a vehicle.\n"
     ]
    }
   ],
   "source": [
    "v.details()"
   ]
  },
  {
   "cell_type": "code",
   "execution_count": 4,
   "metadata": {},
   "outputs": [],
   "source": [
    "class Car(Vehicle):\n",
    "    def showCarDetails(self):\n",
    "        print(\"I am a car.\")"
   ]
  },
  {
   "cell_type": "code",
   "execution_count": 5,
   "metadata": {},
   "outputs": [],
   "source": [
    "c = Car(40000, 30)"
   ]
  },
  {
   "cell_type": "code",
   "execution_count": 7,
   "metadata": {},
   "outputs": [
    {
     "output_type": "stream",
     "name": "stdout",
     "text": [
      "I am a car.\n"
     ]
    }
   ],
   "source": [
    "c.showCarDetails()"
   ]
  },
  {
   "cell_type": "code",
   "execution_count": 8,
   "metadata": {},
   "outputs": [
    {
     "output_type": "stream",
     "name": "stdout",
     "text": [
      "Mileage of vehicle is:  30\nCost of vehicle is:  40000\nI am a vehicle.\n"
     ]
    }
   ],
   "source": [
    "c.details()"
   ]
  },
  {
   "cell_type": "code",
   "execution_count": 13,
   "metadata": {},
   "outputs": [],
   "source": [
    "class Car(Vehicle):\n",
    "    def __init__(self, mileage, cost, tyres, hp):\n",
    "        super().__init__(cost, mileage)\n",
    "        self.tyres = tyres\n",
    "        self.hp = hp\n",
    "\n",
    "    def details(self):\n",
    "        super().details()\n",
    "        print(\"Number of typres in car: \", self.tyres)\n",
    "        print(\"Horse power of car: \", self.hp)"
   ]
  },
  {
   "cell_type": "code",
   "execution_count": 14,
   "metadata": {},
   "outputs": [],
   "source": [
    "c2 = Car(4000, 30, 4, 200)"
   ]
  },
  {
   "cell_type": "code",
   "execution_count": 15,
   "metadata": {},
   "outputs": [
    {
     "output_type": "stream",
     "name": "stdout",
     "text": [
      "Mileage of vehicle is:  4000\nCost of vehicle is:  30\nNumber of typres in car:  4\nHorse power of car:  200\n"
     ]
    }
   ],
   "source": [
    "c2.details()"
   ]
  },
  {
   "cell_type": "code",
   "execution_count": null,
   "metadata": {},
   "outputs": [],
   "source": []
  }
 ]
}