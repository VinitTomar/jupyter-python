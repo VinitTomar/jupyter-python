{
 "metadata": {
  "language_info": {
   "codemirror_mode": {
    "name": "ipython",
    "version": 3
   },
   "file_extension": ".py",
   "mimetype": "text/x-python",
   "name": "python",
   "nbconvert_exporter": "python",
   "pygments_lexer": "ipython3",
   "version": "3.9.1-final"
  },
  "orig_nbformat": 2,
  "kernelspec": {
   "name": "python391jvsc74a57bd0ac2eaa0ea0ebeafcc7822e65e46aa9d4f966f30b695406963e145ea4a91cd4fc",
   "display_name": "Python 3.9.1 64-bit"
  },
  "metadata": {
   "interpreter": {
    "hash": "ac2eaa0ea0ebeafcc7822e65e46aa9d4f966f30b695406963e145ea4a91cd4fc"
   }
  }
 },
 "nbformat": 4,
 "nbformat_minor": 2,
 "cells": [
  {
   "cell_type": "code",
   "execution_count": 74,
   "metadata": {},
   "outputs": [],
   "source": [
    "class Parent1:\n",
    "    def forParentOne(self, prop):\n",
    "        self.prop1 = prop\n",
    "\n",
    "    def getFromParentOne(self):\n",
    "        return self.prop1\n",
    "\n",
    "    def common(self, common):\n",
    "        self.common = common\n",
    "\n",
    "    def getCommon(self):\n",
    "        return self.common + \" Parent 1\""
   ]
  },
  {
   "cell_type": "code",
   "execution_count": 75,
   "metadata": {},
   "outputs": [],
   "source": [
    "class Parent2:\n",
    "    def forParentTwo(self, prop):\n",
    "        self.prop2 = prop\n",
    "\n",
    "    def getFromParentTwo(self):\n",
    "        return self.prop2\n",
    "    \n",
    "    def common(self, common):\n",
    "        self.common = common\n",
    "\n",
    "    def getCommon(self):\n",
    "        return self.common + \" Parent 2\""
   ]
  },
  {
   "cell_type": "code",
   "execution_count": 76,
   "metadata": {},
   "outputs": [],
   "source": [
    "class child(Parent2, Parent1):\n",
    "    def forChild(self, prop):\n",
    "        self.prop3 = prop\n",
    "\n",
    "    def getFromChild(self):\n",
    "        return self.prop3\n",
    "\n",
    "    def getCommon(self):\n",
    "        return super().getCommon()"
   ]
  },
  {
   "cell_type": "code",
   "execution_count": 77,
   "metadata": {},
   "outputs": [],
   "source": [
    "ch = child()"
   ]
  },
  {
   "cell_type": "code",
   "execution_count": 78,
   "metadata": {},
   "outputs": [],
   "source": [
    "ch.forChild(\"Child prop\")\n",
    "ch.forParentOne(\"Parent one prop\")\n",
    "ch.forParentTwo(\"Parent two prop\")\n",
    "ch.common(\"This is common\")"
   ]
  },
  {
   "cell_type": "code",
   "execution_count": 79,
   "metadata": {},
   "outputs": [
    {
     "output_type": "execute_result",
     "data": {
      "text/plain": [
       "'Child prop'"
      ]
     },
     "metadata": {},
     "execution_count": 79
    }
   ],
   "source": [
    "ch.getFromChild()"
   ]
  },
  {
   "cell_type": "code",
   "execution_count": 80,
   "metadata": {},
   "outputs": [
    {
     "output_type": "execute_result",
     "data": {
      "text/plain": [
       "'Parent one prop'"
      ]
     },
     "metadata": {},
     "execution_count": 80
    }
   ],
   "source": [
    "ch.getFromParentOne()"
   ]
  },
  {
   "cell_type": "code",
   "execution_count": 81,
   "metadata": {},
   "outputs": [
    {
     "output_type": "execute_result",
     "data": {
      "text/plain": [
       "'Parent two prop'"
      ]
     },
     "metadata": {},
     "execution_count": 81
    }
   ],
   "source": [
    "ch.getFromParentTwo()"
   ]
  },
  {
   "cell_type": "code",
   "execution_count": 82,
   "metadata": {},
   "outputs": [
    {
     "output_type": "execute_result",
     "data": {
      "text/plain": [
       "'This is common Parent 2'"
      ]
     },
     "metadata": {},
     "execution_count": 82
    }
   ],
   "source": [
    "ch.getCommon()"
   ]
  }
 ]
}